{
  "nbformat": 4,
  "nbformat_minor": 0,
  "metadata": {
    "colab": {
      "name": "chiSquaredNormalityWeights.ipynb",
      "provenance": [],
      "collapsed_sections": []
    },
    "kernelspec": {
      "name": "python3",
      "display_name": "Python 3"
    },
    "language_info": {
      "name": "python"
    }
  },
  "cells": [
    {
      "cell_type": "markdown",
      "metadata": {
        "id": "9_IXyrjv7viU"
      },
      "source": [
        "# Chi-Squared Goodness of Fit Test For Normality"
      ]
    },
    {
      "cell_type": "markdown",
      "metadata": {
        "id": "pv66sPFZ74rN"
      },
      "source": [
        "# Library Imports"
      ]
    },
    {
      "cell_type": "code",
      "metadata": {
        "id": "vzqT8QKB72Km"
      },
      "source": [
        "import numpy as np\n",
        "import pandas as pd\n",
        "import scipy.stats as st\n",
        "import seaborn as sns"
      ],
      "execution_count": null,
      "outputs": []
    },
    {
      "cell_type": "markdown",
      "metadata": {
        "id": "r8KEunVd8hA-"
      },
      "source": [
        "# Data"
      ]
    },
    {
      "cell_type": "code",
      "metadata": {
        "colab": {
          "base_uri": "https://localhost:8080/",
          "height": 204
        },
        "id": "oiEJ-n7A8U-X",
        "outputId": "f45db6cf-131e-4295-fc6f-afa3381fc4ce"
      },
      "source": [
        "# reading the data file\n",
        "df = pd.read_csv(\"/content/Weights.csv\")\n",
        "df.head()"
      ],
      "execution_count": null,
      "outputs": [
        {
          "output_type": "execute_result",
          "data": {
            "text/html": [
              "<div>\n",
              "<style scoped>\n",
              "    .dataframe tbody tr th:only-of-type {\n",
              "        vertical-align: middle;\n",
              "    }\n",
              "\n",
              "    .dataframe tbody tr th {\n",
              "        vertical-align: top;\n",
              "    }\n",
              "\n",
              "    .dataframe thead th {\n",
              "        text-align: right;\n",
              "    }\n",
              "</style>\n",
              "<table border=\"1\" class=\"dataframe\">\n",
              "  <thead>\n",
              "    <tr style=\"text-align: right;\">\n",
              "      <th></th>\n",
              "      <th>Weights</th>\n",
              "    </tr>\n",
              "  </thead>\n",
              "  <tbody>\n",
              "    <tr>\n",
              "      <th>0</th>\n",
              "      <td>18</td>\n",
              "    </tr>\n",
              "    <tr>\n",
              "      <th>1</th>\n",
              "      <td>25</td>\n",
              "    </tr>\n",
              "    <tr>\n",
              "      <th>2</th>\n",
              "      <td>26</td>\n",
              "    </tr>\n",
              "    <tr>\n",
              "      <th>3</th>\n",
              "      <td>27</td>\n",
              "    </tr>\n",
              "    <tr>\n",
              "      <th>4</th>\n",
              "      <td>26</td>\n",
              "    </tr>\n",
              "  </tbody>\n",
              "</table>\n",
              "</div>"
            ],
            "text/plain": [
              "   Weights\n",
              "0       18\n",
              "1       25\n",
              "2       26\n",
              "3       27\n",
              "4       26"
            ]
          },
          "metadata": {},
          "execution_count": 4
        }
      ]
    },
    {
      "cell_type": "code",
      "metadata": {
        "colab": {
          "base_uri": "https://localhost:8080/"
        },
        "id": "6IrjVxVV8-TZ",
        "outputId": "4ec9a8d9-7193-49a6-e4e4-9d813b8f1bc3"
      },
      "source": [
        "# storing the sample observations in a numpy array\n",
        "wts = np.array(df.Weights)\n",
        "wts"
      ],
      "execution_count": null,
      "outputs": [
        {
          "output_type": "execute_result",
          "data": {
            "text/plain": [
              "array([18, 25, 26, 27, 26, 25, 20, 22, 23, 25, 25, 28, 22, 27, 20, 19, 31,\n",
              "       26, 27, 25, 24, 21, 29, 28, 22, 24, 26, 25, 25, 24])"
            ]
          },
          "metadata": {},
          "execution_count": 5
        }
      ]
    },
    {
      "cell_type": "code",
      "metadata": {
        "colab": {
          "base_uri": "https://localhost:8080/",
          "height": 339
        },
        "id": "DkC_KkLL9UHc",
        "outputId": "62efcd34-fa26-49ee-ee92-4c8a64c8f719"
      },
      "source": [
        "# visualizing the data\n",
        "sns.set_theme()\n",
        "sns.distplot(wts)"
      ],
      "execution_count": null,
      "outputs": [
        {
          "output_type": "stream",
          "name": "stderr",
          "text": [
            "/usr/local/lib/python3.7/dist-packages/seaborn/distributions.py:2619: FutureWarning: `distplot` is a deprecated function and will be removed in a future version. Please adapt your code to use either `displot` (a figure-level function with similar flexibility) or `histplot` (an axes-level function for histograms).\n",
            "  warnings.warn(msg, FutureWarning)\n"
          ]
        },
        {
          "output_type": "execute_result",
          "data": {
            "text/plain": [
              "<matplotlib.axes._subplots.AxesSubplot at 0x7f4cb3ac4790>"
            ]
          },
          "metadata": {},
          "execution_count": 7
        },
        {
          "output_type": "display_data",
          "data": {
            "image/png": "[encoded data removed]",
            "text/plain": [
              "<Figure size 432x288 with 1 Axes>"
            ]
          },
          "metadata": {}
        }
      ]
    },
    {
      "cell_type": "markdown",
      "metadata": {
        "id": "U4p97v-c-mHg"
      },
      "source": [
        "# Bins and Frequencies"
      ]
    },
    {
      "cell_type": "code",
      "metadata": {
        "colab": {
          "base_uri": "https://localhost:8080/"
        },
        "id": "cs-mr5RC9yWE",
        "outputId": "9d774d3d-658e-457a-96af-626f52fe3cfb"
      },
      "source": [
        "# calculating the sample statistics\n",
        "sampleMean, sampleStdDev =  wts.mean(), wts.std(ddof = 1)\n",
        "print(sampleMean, sampleStdDev)"
      ],
      "execution_count": null,
      "outputs": [
        {
          "output_type": "stream",
          "name": "stdout",
          "text": [
            "24.5 3.0143335742003945\n"
          ]
        }
      ]
    },
    {
      "cell_type": "code",
      "metadata": {
        "colab": {
          "base_uri": "https://localhost:8080/"
        },
        "id": "pa0Z_kew-ccF",
        "outputId": "5fedc8d2-1fca-4d7c-d547-47359fa22773"
      },
      "source": [
        "# creating 10 bins for the data\n",
        "# calculating the bounds\n",
        "numBins = 10\n",
        "bins = [-float(\"inf\")]\n",
        "for i in range(0, numBins - 1):\n",
        "  # cumulative relative frequency upto this point\n",
        "  cf = (i + 1) / 10\n",
        "  # corresponding z-value\n",
        "  z = st.norm.ppf(cf)\n",
        "  # corresponding upper bound\n",
        "  bound = sampleMean + z * sampleStdDev\n",
        "  bins.append(bound)\n",
        "  print(cf, z, bound)\n",
        "bins.append(float(\"inf\"))\n",
        "bins"
      ],
      "execution_count": null,
      "outputs": [
        {
          "output_type": "stream",
          "name": "stdout",
          "text": [
            "0.1 -1.2815515655446004 20.636976088909833\n",
            "0.2 -0.8416212335729142 21.963072858881212\n",
            "0.3 -0.5244005127080409 22.91928192821625\n",
            "0.4 -0.2533471031357997 23.73632732109135\n",
            "0.5 0.0 24.5\n",
            "0.6 0.2533471031357997 25.26367267890865\n",
            "0.7 0.5244005127080407 26.080718071783746\n",
            "0.8 0.8416212335729143 27.036927141118788\n",
            "0.9 1.2815515655446004 28.363023911090167\n"
          ]
        },
        {
          "output_type": "execute_result",
          "data": {
            "text/plain": [
              "[-inf,\n",
              " 20.636976088909833,\n",
              " 21.963072858881212,\n",
              " 22.91928192821625,\n",
              " 23.73632732109135,\n",
              " 24.5,\n",
              " 25.26367267890865,\n",
              " 26.080718071783746,\n",
              " 27.036927141118788,\n",
              " 28.363023911090167,\n",
              " inf]"
            ]
          },
          "metadata": {},
          "execution_count": 9
        }
      ]
    },
    {
      "cell_type": "code",
      "metadata": {
        "colab": {
          "base_uri": "https://localhost:8080/"
        },
        "id": "W9t-yjwM_9Q-",
        "outputId": "99b43f17-14ca-4114-a48f-8ad177ec03b8"
      },
      "source": [
        "# calculating observed frequencies\n",
        "obsF = []\n",
        "for i in range(0, numBins):\n",
        "  obsF.append(sum(x >= bins[i] and x < bins[i + 1] for x in wts))\n",
        "\n",
        "# calculating expected frequencies\n",
        "# same for each bin\n",
        "expF = wts.size / numBins\n",
        "\n",
        "print(obsF)\n",
        "print(expF)"
      ],
      "execution_count": null,
      "outputs": [
        {
          "output_type": "stream",
          "name": "stdout",
          "text": [
            "[4, 1, 3, 1, 3, 7, 4, 3, 2, 2]\n",
            "3.0\n"
          ]
        }
      ]
    },
    {
      "cell_type": "markdown",
      "metadata": {
        "id": "CHiQ3UktBZOU"
      },
      "source": [
        "# Chi-Squared Test"
      ]
    },
    {
      "cell_type": "code",
      "metadata": {
        "colab": {
          "base_uri": "https://localhost:8080/"
        },
        "id": "FmGSWsw1BVJ1",
        "outputId": "5529ebae-add1-404b-891f-66ae5109d3e4"
      },
      "source": [
        "# calculating the critical chisq value\n",
        "alpha = 0.05\n",
        "critical = st.chi2.ppf(1 - alpha, numBins - 2 - 1)\n",
        "critical"
      ],
      "execution_count": null,
      "outputs": [
        {
          "output_type": "execute_result",
          "data": {
            "text/plain": [
              "14.067140449340169"
            ]
          },
          "metadata": {},
          "execution_count": 11
        }
      ]
    },
    {
      "cell_type": "code",
      "metadata": {
        "colab": {
          "base_uri": "https://localhost:8080/"
        },
        "id": "b9JUtMxyCKWx",
        "outputId": "d5f4f3d8-86f5-4530-f26f-6ae555d59585"
      },
      "source": [
        "# calculating the chisq value\n",
        "chisq = sum((obs - expF) ** 2 / expF for obs in obsF)\n",
        "\n",
        "# calculating the p-value\n",
        "pValue = 1 - st.chi2.cdf(chisq, numBins - 2 - 1)\n",
        "\n",
        "print(chisq, pValue)"
      ],
      "execution_count": null,
      "outputs": [
        {
          "output_type": "stream",
          "name": "stdout",
          "text": [
            "9.333333333333334 0.229601649193794\n"
          ]
        }
      ]
    },
    {
      "cell_type": "code",
      "metadata": {
        "colab": {
          "base_uri": "https://localhost:8080/"
        },
        "id": "SxbtCttWCxn1",
        "outputId": "8a833875-88ad-4af1-ab27-4c1b4790d59d"
      },
      "source": [
        "# hypothesis testing\n",
        "print(\"Null Hypothesis: Given distr in normal with mean = {mean} and std dev = {stdDev}.\".format(\n",
        "    mean = sampleMean, stdDev = sampleStdDev\n",
        "))\n",
        "print(\"Alternative Hypothesis: Not normal with given mean and std dev.\")\n",
        "\n",
        "if (pValue <= alpha):\n",
        "  print(\"Null hypothesis rejected.\")\n",
        "else:\n",
        "  print(\"Null hypothesis not rejected.\")"
      ],
      "execution_count": null,
      "outputs": [
        {
          "output_type": "stream",
          "name": "stdout",
          "text": [
            "Null Hypothesis: Given distr in normal with mean = 24.5 and std dev = 3.0143335742003945.\n",
            "Alternative Hypothesis: Not normal with given mean and std dev.\n",
            "Null hypothesis not rejected.\n"
          ]
        }
      ]
    },
    {
      "cell_type": "code",
      "metadata": {
        "id": "C7Uxhc9eEy0U"
      },
      "source": [
        ""
      ],
      "execution_count": null,
      "outputs": []
    }
  ]
}