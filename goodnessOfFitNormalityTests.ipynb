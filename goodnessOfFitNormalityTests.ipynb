{
  "nbformat": 4,
  "nbformat_minor": 0,
  "metadata": {
    "colab": {
      "name": "goodnessOfFit.ipynb",
      "provenance": [],
      "collapsed_sections": []
    },
    "kernelspec": {
      "name": "python3",
      "display_name": "Python 3"
    },
    "language_info": {
      "name": "python"
    }
  },
  "cells": [
    {
      "cell_type": "markdown",
      "metadata": {
        "id": "joxOMsKyVGoH"
      },
      "source": [
        "# Math F432 Applied Statistical Methods"
      ]
    },
    {
      "cell_type": "code",
      "metadata": {
        "id": "WLPkl2SjVRCt"
      },
      "source": [
        "import pandas as pd\n",
        "import numpy as np\n",
        "from scipy.stats import chisquare\n",
        "from scipy.stats import shapiro\n",
        "from scipy.stats import kstest\n",
        "import seaborn as sns"
      ],
      "execution_count": null,
      "outputs": []
    },
    {
      "cell_type": "markdown",
      "metadata": {
        "id": "FKOSrkrZVNRN"
      },
      "source": [
        "# Normality Tests"
      ]
    },
    {
      "cell_type": "code",
      "metadata": {
        "colab": {
          "base_uri": "https://localhost:8080/",
          "height": 204
        },
        "id": "yo5DGn2HWQto",
        "outputId": "c659b737-15f2-44b5-81b2-21448ceb9019"
      },
      "source": [
        "df = pd.read_csv(\"/Chemline.csv\")\n",
        "df.head()"
      ],
      "execution_count": null,
      "outputs": [
        {
          "output_type": "execute_result",
          "data": {
            "text/html": [
              "<div>\n",
              "<style scoped>\n",
              "    .dataframe tbody tr th:only-of-type {\n",
              "        vertical-align: middle;\n",
              "    }\n",
              "\n",
              "    .dataframe tbody tr th {\n",
              "        vertical-align: top;\n",
              "    }\n",
              "\n",
              "    .dataframe thead th {\n",
              "        text-align: right;\n",
              "    }\n",
              "</style>\n",
              "<table border=\"1\" class=\"dataframe\">\n",
              "  <thead>\n",
              "    <tr style=\"text-align: right;\">\n",
              "      <th></th>\n",
              "      <th>Score</th>\n",
              "      <th>Unnamed: 1</th>\n",
              "      <th>Unnamed: 2</th>\n",
              "    </tr>\n",
              "  </thead>\n",
              "  <tbody>\n",
              "    <tr>\n",
              "      <th>0</th>\n",
              "      <td>71</td>\n",
              "      <td>NaN</td>\n",
              "      <td>NaN</td>\n",
              "    </tr>\n",
              "    <tr>\n",
              "      <th>1</th>\n",
              "      <td>60</td>\n",
              "      <td>NaN</td>\n",
              "      <td>NaN</td>\n",
              "    </tr>\n",
              "    <tr>\n",
              "      <th>2</th>\n",
              "      <td>55</td>\n",
              "      <td>NaN</td>\n",
              "      <td>NaN</td>\n",
              "    </tr>\n",
              "    <tr>\n",
              "      <th>3</th>\n",
              "      <td>82</td>\n",
              "      <td>NaN</td>\n",
              "      <td>NaN</td>\n",
              "    </tr>\n",
              "    <tr>\n",
              "      <th>4</th>\n",
              "      <td>85</td>\n",
              "      <td>NaN</td>\n",
              "      <td>NaN</td>\n",
              "    </tr>\n",
              "  </tbody>\n",
              "</table>\n",
              "</div>"
            ],
            "text/plain": [
              "   Score  Unnamed: 1  Unnamed: 2\n",
              "0     71         NaN         NaN\n",
              "1     60         NaN         NaN\n",
              "2     55         NaN         NaN\n",
              "3     82         NaN         NaN\n",
              "4     85         NaN         NaN"
            ]
          },
          "metadata": {},
          "execution_count": 3
        }
      ]
    },
    {
      "cell_type": "code",
      "metadata": {
        "colab": {
          "base_uri": "https://localhost:8080/"
        },
        "id": "VoZ4xCEhWYVn",
        "outputId": "a9fc9130-2b4d-4b2f-88d4-bb0eac30a9fb"
      },
      "source": [
        "df.Score"
      ],
      "execution_count": null,
      "outputs": [
        {
          "output_type": "execute_result",
          "data": {
            "text/plain": [
              "0     71\n",
              "1     60\n",
              "2     55\n",
              "3     82\n",
              "4     85\n",
              "5     65\n",
              "6     77\n",
              "7     61\n",
              "8     79\n",
              "9     66\n",
              "10    86\n",
              "11    63\n",
              "12    79\n",
              "13    80\n",
              "14    62\n",
              "15    54\n",
              "16    56\n",
              "17    84\n",
              "18    61\n",
              "19    70\n",
              "20    56\n",
              "21    76\n",
              "22    56\n",
              "23    90\n",
              "24    64\n",
              "25    63\n",
              "26    65\n",
              "27    70\n",
              "28    62\n",
              "29    68\n",
              "30    61\n",
              "31    69\n",
              "32    74\n",
              "33    80\n",
              "34    54\n",
              "35    73\n",
              "36    76\n",
              "37    53\n",
              "38    61\n",
              "39    76\n",
              "40    65\n",
              "41    56\n",
              "42    93\n",
              "43    73\n",
              "44    54\n",
              "45    58\n",
              "46    64\n",
              "47    79\n",
              "48    65\n",
              "49    71\n",
              "Name: Score, dtype: int64"
            ]
          },
          "metadata": {},
          "execution_count": 4
        }
      ]
    },
    {
      "cell_type": "code",
      "metadata": {
        "colab": {
          "base_uri": "https://localhost:8080/",
          "height": 356
        },
        "id": "yYjYsSZdfvOF",
        "outputId": "d0fc0e92-7d07-481b-c60c-917405453884"
      },
      "source": [
        "sns.set_theme()\n",
        "sns.distplot(df.Score)"
      ],
      "execution_count": null,
      "outputs": [
        {
          "output_type": "stream",
          "name": "stderr",
          "text": [
            "/usr/local/lib/python3.7/dist-packages/seaborn/distributions.py:2619: FutureWarning: `distplot` is a deprecated function and will be removed in a future version. Please adapt your code to use either `displot` (a figure-level function with similar flexibility) or `histplot` (an axes-level function for histograms).\n",
            "  warnings.warn(msg, FutureWarning)\n"
          ]
        },
        {
          "output_type": "execute_result",
          "data": {
            "text/plain": [
              "<matplotlib.axes._subplots.AxesSubplot at 0x7f7b7464f110>"
            ]
          },
          "metadata": {},
          "execution_count": 5
        },
        {
          "output_type": "display_data",
          "data": {
            "image/png": "[encoded data removed]",
            "text/plain": [
              "<Figure size 432x288 with 1 Axes>"
            ]
          },
          "metadata": {}
        }
      ]
    },
    {
      "cell_type": "code",
      "metadata": {
        "colab": {
          "base_uri": "https://localhost:8080/"
        },
        "id": "hYJ-cCntWgMJ",
        "outputId": "6365d992-c13c-42f1-980c-4f8b882dd813"
      },
      "source": [
        "# Shapiro Test\n",
        "statistic, pvalueShapiro = shapiro(df.Score)\n",
        "print(statistic, pvalueShapiro)"
      ],
      "execution_count": null,
      "outputs": [
        {
          "output_type": "stream",
          "name": "stdout",
          "text": [
            "0.9567651152610779 0.06508207321166992\n"
          ]
        }
      ]
    },
    {
      "cell_type": "code",
      "metadata": {
        "id": "cYPwAJBeXNJJ"
      },
      "source": [
        "def testNormal(p):\n",
        "  if p > 0.05:\n",
        "    print(\"Normal distribution at 0.05 significance level.\")\n",
        "  else:\n",
        "    print(\"Not a Normal distribution at 0.05 significance level.\")"
      ],
      "execution_count": null,
      "outputs": []
    },
    {
      "cell_type": "code",
      "metadata": {
        "colab": {
          "base_uri": "https://localhost:8080/"
        },
        "id": "nlO-vSZbghvK",
        "outputId": "53331bad-41e2-4372-da3b-fc648b3fc586"
      },
      "source": [
        "testNormal(pvalueShapiro)"
      ],
      "execution_count": null,
      "outputs": [
        {
          "output_type": "stream",
          "name": "stdout",
          "text": [
            "Normal distribution at 0.05 significance level.\n"
          ]
        }
      ]
    },
    {
      "cell_type": "markdown",
      "metadata": {
        "id": "8Dj-DQ6HaS0E"
      },
      "source": [
        "# Chi-Squared Multinomial Distribution Test"
      ]
    },
    {
      "cell_type": "code",
      "metadata": {
        "id": "bWFoL1llaZ9v"
      },
      "source": [
        "# three categories in the data with given frequencies\n",
        "freqs = np.array([105, 72, 89, 84, 70, 80])\n",
        "\n",
        "# expected fractions / probabilities of the categories\n",
        "probs = np.array([0.24, .13, 0.20, 0.16, 0.13, 0.14])\n",
        "\n",
        "# total number of items ins sample\n",
        "N = 500"
      ],
      "execution_count": null,
      "outputs": []
    },
    {
      "cell_type": "code",
      "metadata": {
        "colab": {
          "base_uri": "https://localhost:8080/"
        },
        "id": "Ln-ZCtf8a5PF",
        "outputId": "1aa26640-5bba-4c12-e2a4-1260ac2064d0"
      },
      "source": [
        "# chi squared test\n",
        "statistic, pvalue = chisquare(freqs, N * probs)\n",
        "print(statistic, pvalue)"
      ],
      "execution_count": null,
      "outputs": [
        {
          "output_type": "stream",
          "name": "stdout",
          "text": [
            "5.852032967032968 0.32088409010113095\n"
          ]
        }
      ]
    },
    {
      "cell_type": "code",
      "metadata": {
        "colab": {
          "base_uri": "https://localhost:8080/"
        },
        "id": "uNU-bHcrbBvm",
        "outputId": "5ecec8b6-1492-4ccf-cc48-1cf261ff89e1"
      },
      "source": [
        "# performing hypothesis test with p-value\n",
        "alpha = 0.05 # significance level\n",
        "print(\"At\", alpha, \"significance level: \", end = \"\")\n",
        "print(\"Fitting\" if pvalue > alpha else \"Not Fitting\")"
      ],
      "execution_count": null,
      "outputs": [
        {
          "output_type": "stream",
          "name": "stdout",
          "text": [
            "At 0.05 significance level: Fitting\n"
          ]
        }
      ]
    },
    {
      "cell_type": "code",
      "metadata": {
        "id": "eSra_AF1beFH"
      },
      "source": [
        ""
      ],
      "execution_count": null,
      "outputs": []
    }
  ]
}